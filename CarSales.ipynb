{
 "cells": [
  {
   "cell_type": "code",
   "execution_count": 59,
   "id": "184e0f4e",
   "metadata": {},
   "outputs": [],
   "source": [
    "#Car Sales\n",
    "#Link to source: https://www.kaggle.com/datasets/pratyushpuri/used-car-sales-listings-dataset-2025"
   ]
  },
  {
   "cell_type": "code",
   "execution_count": 60,
   "id": "34fc7d6c",
   "metadata": {},
   "outputs": [],
   "source": [
    "import pandas as pd\n",
    "import numpy as np\n",
    "import matplotlib.pyplot as plt\n",
    "import seaborn as sns\n",
    "pd.set_option('display.max_columns', None)"
   ]
  },
  {
   "cell_type": "code",
   "execution_count": 61,
   "id": "db246e30",
   "metadata": {},
   "outputs": [],
   "source": [
    "df = pd.read_csv(\"data/used_car_listings.csv\")"
   ]
  },
  {
   "cell_type": "code",
   "execution_count": 62,
   "id": "af6836c7",
   "metadata": {},
   "outputs": [
    {
     "data": {
      "application/vnd.microsoft.datawrangler.viewer.v0+json": {
       "columns": [
        {
         "name": "index",
         "rawType": "int64",
         "type": "integer"
        },
        {
         "name": "listing_id",
         "rawType": "int64",
         "type": "integer"
        },
        {
         "name": "vin",
         "rawType": "object",
         "type": "string"
        },
        {
         "name": "make",
         "rawType": "object",
         "type": "string"
        },
        {
         "name": "model",
         "rawType": "object",
         "type": "string"
        },
        {
         "name": "year",
         "rawType": "int64",
         "type": "integer"
        },
        {
         "name": "trim",
         "rawType": "object",
         "type": "unknown"
        },
        {
         "name": "body_type",
         "rawType": "object",
         "type": "string"
        },
        {
         "name": "fuel_type",
         "rawType": "object",
         "type": "string"
        },
        {
         "name": "transmission",
         "rawType": "object",
         "type": "string"
        },
        {
         "name": "mileage",
         "rawType": "int64",
         "type": "integer"
        },
        {
         "name": "price",
         "rawType": "float64",
         "type": "float"
        },
        {
         "name": "condition",
         "rawType": "object",
         "type": "string"
        },
        {
         "name": "location",
         "rawType": "object",
         "type": "string"
        },
        {
         "name": "seller_type",
         "rawType": "object",
         "type": "string"
        },
        {
         "name": "features",
         "rawType": "object",
         "type": "string"
        }
       ],
       "ref": "0867465a-23f7-4d30-9512-0855103db633",
       "rows": [
        [
         "0",
         "1",
         "9M6LF68V634LY2252",
         "Tesla",
         "Model 3",
         "2019",
         null,
         "Coupe",
         "Electric",
         "Manual",
         "46134",
         "19919.0",
         "good",
         "New Lindsey, GA, US",
         "Dealer",
         "Alloy Wheels, Android Auto, Apple CarPlay, Fog Lights, LED Headlights, Parking Sensors, Ventilated Seats"
        ],
        [
         "1",
         "2",
         "1S0ZCY536BSCY2864",
         "Nissan",
         "Rogue",
         "2024",
         "LT",
         "Sedan",
         "Hybrid",
         "Automatic",
         "16109",
         "19480.0",
         "good",
         "Pughtown, CO, US",
         "Dealer",
         "Alloy Wheels, Android Auto, Lane Keep Assist, Navigation, Panoramic Roof, Parking Sensors, Push Button Start, Wireless Charging"
        ],
        [
         "2",
         "3",
         "YFB625BN0RTMZ5590",
         "Hyundai",
         "i20",
         "2018",
         "XLE",
         "Crossover",
         "Petrol",
         "Automatic",
         "173239",
         "4556.0",
         "good",
         "Satna, HR, India",
         "Dealer",
         "Alloy Wheels, Bluetooth, Panoramic Roof, Sunroof"
        ],
        [
         "3",
         "4",
         "CPMZ4RFN5WYL37096",
         "Kia",
         "Sportage",
         "2023",
         "EX",
         "Hatchback",
         "Diesel",
         "CVT",
         "36810",
         "11536.0",
         "fair",
         "山武市, Osaka, Japan",
         "Certified Pre-Owned",
         "Alloy Wheels, Bluetooth, Keyless Entry, Navigation, Sunroof, Wireless Charging"
        ],
        [
         "4",
         "5",
         "4PJZG3MV6D9365673",
         "Kia",
         "Seltos",
         "2020",
         "Trend",
         "Pickup",
         "Diesel",
         "Automatic",
         "87749",
         "14098.0",
         "good",
         "長生郡長生村, Osaka, Japan",
         "Certified Pre-Owned",
         "Apple CarPlay, Backup Camera, Bluetooth, Heated Seats, Lane Keep Assist, Panoramic Roof, Push Button Start, Wireless Charging"
        ]
       ],
       "shape": {
        "columns": 15,
        "rows": 5
       }
      },
      "text/html": [
       "<div>\n",
       "<style scoped>\n",
       "    .dataframe tbody tr th:only-of-type {\n",
       "        vertical-align: middle;\n",
       "    }\n",
       "\n",
       "    .dataframe tbody tr th {\n",
       "        vertical-align: top;\n",
       "    }\n",
       "\n",
       "    .dataframe thead th {\n",
       "        text-align: right;\n",
       "    }\n",
       "</style>\n",
       "<table border=\"1\" class=\"dataframe\">\n",
       "  <thead>\n",
       "    <tr style=\"text-align: right;\">\n",
       "      <th></th>\n",
       "      <th>listing_id</th>\n",
       "      <th>vin</th>\n",
       "      <th>make</th>\n",
       "      <th>model</th>\n",
       "      <th>year</th>\n",
       "      <th>trim</th>\n",
       "      <th>body_type</th>\n",
       "      <th>fuel_type</th>\n",
       "      <th>transmission</th>\n",
       "      <th>mileage</th>\n",
       "      <th>price</th>\n",
       "      <th>condition</th>\n",
       "      <th>location</th>\n",
       "      <th>seller_type</th>\n",
       "      <th>features</th>\n",
       "    </tr>\n",
       "  </thead>\n",
       "  <tbody>\n",
       "    <tr>\n",
       "      <th>0</th>\n",
       "      <td>1</td>\n",
       "      <td>9M6LF68V634LY2252</td>\n",
       "      <td>Tesla</td>\n",
       "      <td>Model 3</td>\n",
       "      <td>2019</td>\n",
       "      <td>NaN</td>\n",
       "      <td>Coupe</td>\n",
       "      <td>Electric</td>\n",
       "      <td>Manual</td>\n",
       "      <td>46134</td>\n",
       "      <td>19919.0</td>\n",
       "      <td>good</td>\n",
       "      <td>New Lindsey, GA, US</td>\n",
       "      <td>Dealer</td>\n",
       "      <td>Alloy Wheels, Android Auto, Apple CarPlay, Fog...</td>\n",
       "    </tr>\n",
       "    <tr>\n",
       "      <th>1</th>\n",
       "      <td>2</td>\n",
       "      <td>1S0ZCY536BSCY2864</td>\n",
       "      <td>Nissan</td>\n",
       "      <td>Rogue</td>\n",
       "      <td>2024</td>\n",
       "      <td>LT</td>\n",
       "      <td>Sedan</td>\n",
       "      <td>Hybrid</td>\n",
       "      <td>Automatic</td>\n",
       "      <td>16109</td>\n",
       "      <td>19480.0</td>\n",
       "      <td>good</td>\n",
       "      <td>Pughtown, CO, US</td>\n",
       "      <td>Dealer</td>\n",
       "      <td>Alloy Wheels, Android Auto, Lane Keep Assist, ...</td>\n",
       "    </tr>\n",
       "    <tr>\n",
       "      <th>2</th>\n",
       "      <td>3</td>\n",
       "      <td>YFB625BN0RTMZ5590</td>\n",
       "      <td>Hyundai</td>\n",
       "      <td>i20</td>\n",
       "      <td>2018</td>\n",
       "      <td>XLE</td>\n",
       "      <td>Crossover</td>\n",
       "      <td>Petrol</td>\n",
       "      <td>Automatic</td>\n",
       "      <td>173239</td>\n",
       "      <td>4556.0</td>\n",
       "      <td>good</td>\n",
       "      <td>Satna, HR, India</td>\n",
       "      <td>Dealer</td>\n",
       "      <td>Alloy Wheels, Bluetooth, Panoramic Roof, Sunroof</td>\n",
       "    </tr>\n",
       "    <tr>\n",
       "      <th>3</th>\n",
       "      <td>4</td>\n",
       "      <td>CPMZ4RFN5WYL37096</td>\n",
       "      <td>Kia</td>\n",
       "      <td>Sportage</td>\n",
       "      <td>2023</td>\n",
       "      <td>EX</td>\n",
       "      <td>Hatchback</td>\n",
       "      <td>Diesel</td>\n",
       "      <td>CVT</td>\n",
       "      <td>36810</td>\n",
       "      <td>11536.0</td>\n",
       "      <td>fair</td>\n",
       "      <td>山武市, Osaka, Japan</td>\n",
       "      <td>Certified Pre-Owned</td>\n",
       "      <td>Alloy Wheels, Bluetooth, Keyless Entry, Naviga...</td>\n",
       "    </tr>\n",
       "    <tr>\n",
       "      <th>4</th>\n",
       "      <td>5</td>\n",
       "      <td>4PJZG3MV6D9365673</td>\n",
       "      <td>Kia</td>\n",
       "      <td>Seltos</td>\n",
       "      <td>2020</td>\n",
       "      <td>Trend</td>\n",
       "      <td>Pickup</td>\n",
       "      <td>Diesel</td>\n",
       "      <td>Automatic</td>\n",
       "      <td>87749</td>\n",
       "      <td>14098.0</td>\n",
       "      <td>good</td>\n",
       "      <td>長生郡長生村, Osaka, Japan</td>\n",
       "      <td>Certified Pre-Owned</td>\n",
       "      <td>Apple CarPlay, Backup Camera, Bluetooth, Heate...</td>\n",
       "    </tr>\n",
       "  </tbody>\n",
       "</table>\n",
       "</div>"
      ],
      "text/plain": [
       "   listing_id                vin     make     model  year   trim  body_type  \\\n",
       "0           1  9M6LF68V634LY2252    Tesla   Model 3  2019    NaN      Coupe   \n",
       "1           2  1S0ZCY536BSCY2864   Nissan     Rogue  2024     LT      Sedan   \n",
       "2           3  YFB625BN0RTMZ5590  Hyundai       i20  2018    XLE  Crossover   \n",
       "3           4  CPMZ4RFN5WYL37096      Kia  Sportage  2023     EX  Hatchback   \n",
       "4           5  4PJZG3MV6D9365673      Kia    Seltos  2020  Trend     Pickup   \n",
       "\n",
       "  fuel_type transmission  mileage    price condition              location  \\\n",
       "0  Electric       Manual    46134  19919.0      good   New Lindsey, GA, US   \n",
       "1    Hybrid    Automatic    16109  19480.0      good      Pughtown, CO, US   \n",
       "2    Petrol    Automatic   173239   4556.0      good      Satna, HR, India   \n",
       "3    Diesel          CVT    36810  11536.0      fair     山武市, Osaka, Japan   \n",
       "4    Diesel    Automatic    87749  14098.0      good  長生郡長生村, Osaka, Japan   \n",
       "\n",
       "           seller_type                                           features  \n",
       "0               Dealer  Alloy Wheels, Android Auto, Apple CarPlay, Fog...  \n",
       "1               Dealer  Alloy Wheels, Android Auto, Lane Keep Assist, ...  \n",
       "2               Dealer   Alloy Wheels, Bluetooth, Panoramic Roof, Sunroof  \n",
       "3  Certified Pre-Owned  Alloy Wheels, Bluetooth, Keyless Entry, Naviga...  \n",
       "4  Certified Pre-Owned  Apple CarPlay, Backup Camera, Bluetooth, Heate...  "
      ]
     },
     "execution_count": 62,
     "metadata": {},
     "output_type": "execute_result"
    }
   ],
   "source": [
    "df.head()"
   ]
  },
  {
   "cell_type": "code",
   "execution_count": 63,
   "id": "66d6637c",
   "metadata": {},
   "outputs": [
    {
     "data": {
      "text/plain": [
       "Index(['listing_id', 'vin', 'make', 'model', 'year', 'trim', 'body_type',\n",
       "       'fuel_type', 'transmission', 'mileage', 'price', 'condition',\n",
       "       'location', 'seller_type', 'features'],\n",
       "      dtype='object')"
      ]
     },
     "execution_count": 63,
     "metadata": {},
     "output_type": "execute_result"
    }
   ],
   "source": [
    "df.columns\n"
   ]
  },
  {
   "cell_type": "code",
   "execution_count": 64,
   "id": "38e78e26",
   "metadata": {},
   "outputs": [
    {
     "data": {
      "text/plain": [
       "0"
      ]
     },
     "execution_count": 64,
     "metadata": {},
     "output_type": "execute_result"
    }
   ],
   "source": [
    "#Checking if we have duplicated vins \n",
    "df.duplicated('vin').sum()"
   ]
  },
  {
   "cell_type": "markdown",
   "id": "ec08ae79",
   "metadata": {},
   "source": []
  },
  {
   "cell_type": "code",
   "execution_count": 65,
   "id": "41b77ace",
   "metadata": {},
   "outputs": [
    {
     "data": {
      "text/plain": [
       "(2068, 13)"
      ]
     },
     "execution_count": 65,
     "metadata": {},
     "output_type": "execute_result"
    }
   ],
   "source": [
    "df = df[[#'listing_id', 'vin', \n",
    "    'make', 'model',\n",
    "    'year', 'trim', 'body_type',\n",
    "    'fuel_type', 'transmission', 'mileage', 'price', 'condition',\n",
    "    'location', 'seller_type', 'features']].copy()\n",
    "\n",
    "df.shape"
   ]
  },
  {
   "cell_type": "code",
   "execution_count": 66,
   "id": "9b094d16",
   "metadata": {},
   "outputs": [
    {
     "data": {
      "application/vnd.microsoft.datawrangler.viewer.v0+json": {
       "columns": [
        {
         "name": "index",
         "rawType": "object",
         "type": "string"
        },
        {
         "name": "0",
         "rawType": "object",
         "type": "unknown"
        }
       ],
       "ref": "96232b30-b76c-4078-a266-b6e6ae2645da",
       "rows": [
        [
         "make",
         "object"
        ],
        [
         "model",
         "object"
        ],
        [
         "year",
         "int64"
        ],
        [
         "trim",
         "object"
        ],
        [
         "body_type",
         "object"
        ],
        [
         "fuel_type",
         "object"
        ],
        [
         "transmission",
         "object"
        ],
        [
         "mileage",
         "int64"
        ],
        [
         "price",
         "float64"
        ],
        [
         "condition",
         "object"
        ],
        [
         "location",
         "object"
        ],
        [
         "seller_type",
         "object"
        ],
        [
         "features",
         "object"
        ]
       ],
       "shape": {
        "columns": 1,
        "rows": 13
       }
      },
      "text/plain": [
       "make             object\n",
       "model            object\n",
       "year              int64\n",
       "trim             object\n",
       "body_type        object\n",
       "fuel_type        object\n",
       "transmission     object\n",
       "mileage           int64\n",
       "price           float64\n",
       "condition        object\n",
       "location         object\n",
       "seller_type      object\n",
       "features         object\n",
       "dtype: object"
      ]
     },
     "execution_count": 66,
     "metadata": {},
     "output_type": "execute_result"
    }
   ],
   "source": [
    "df.dtypes"
   ]
  },
  {
   "cell_type": "code",
   "execution_count": 67,
   "id": "94b6d1ab",
   "metadata": {},
   "outputs": [
    {
     "data": {
      "application/vnd.microsoft.datawrangler.viewer.v0+json": {
       "columns": [
        {
         "name": "index",
         "rawType": "object",
         "type": "string"
        },
        {
         "name": "year",
         "rawType": "float64",
         "type": "float"
        },
        {
         "name": "mileage",
         "rawType": "float64",
         "type": "float"
        },
        {
         "name": "price",
         "rawType": "float64",
         "type": "float"
        }
       ],
       "ref": "4671eed5-20e6-4b2d-9bd9-3d08cbf3e92f",
       "rows": [
        [
         "count",
         "2068.0",
         "2068.0",
         "2068.0"
        ],
        [
         "mean",
         "2016.9758220502902",
         "115626.36460348162",
         "9182.621856866537"
        ],
        [
         "std",
         "4.610981145336502",
         "80971.11260321047",
         "9964.093617773295"
        ],
        [
         "min",
         "2005.0",
         "0.0",
         "1140.0"
        ],
        [
         "25%",
         "2014.0",
         "57683.25",
         "2323.75"
        ],
        [
         "50%",
         "2017.0",
         "99212.0",
         "5448.5"
        ],
        [
         "75%",
         "2020.0",
         "159291.5",
         "11946.75"
        ],
        [
         "max",
         "2025.0",
         "418428.0",
         "72641.0"
        ]
       ],
       "shape": {
        "columns": 3,
        "rows": 8
       }
      },
      "text/html": [
       "<div>\n",
       "<style scoped>\n",
       "    .dataframe tbody tr th:only-of-type {\n",
       "        vertical-align: middle;\n",
       "    }\n",
       "\n",
       "    .dataframe tbody tr th {\n",
       "        vertical-align: top;\n",
       "    }\n",
       "\n",
       "    .dataframe thead th {\n",
       "        text-align: right;\n",
       "    }\n",
       "</style>\n",
       "<table border=\"1\" class=\"dataframe\">\n",
       "  <thead>\n",
       "    <tr style=\"text-align: right;\">\n",
       "      <th></th>\n",
       "      <th>year</th>\n",
       "      <th>mileage</th>\n",
       "      <th>price</th>\n",
       "    </tr>\n",
       "  </thead>\n",
       "  <tbody>\n",
       "    <tr>\n",
       "      <th>count</th>\n",
       "      <td>2068.000000</td>\n",
       "      <td>2068.000000</td>\n",
       "      <td>2068.000000</td>\n",
       "    </tr>\n",
       "    <tr>\n",
       "      <th>mean</th>\n",
       "      <td>2016.975822</td>\n",
       "      <td>115626.364603</td>\n",
       "      <td>9182.621857</td>\n",
       "    </tr>\n",
       "    <tr>\n",
       "      <th>std</th>\n",
       "      <td>4.610981</td>\n",
       "      <td>80971.112603</td>\n",
       "      <td>9964.093618</td>\n",
       "    </tr>\n",
       "    <tr>\n",
       "      <th>min</th>\n",
       "      <td>2005.000000</td>\n",
       "      <td>0.000000</td>\n",
       "      <td>1140.000000</td>\n",
       "    </tr>\n",
       "    <tr>\n",
       "      <th>25%</th>\n",
       "      <td>2014.000000</td>\n",
       "      <td>57683.250000</td>\n",
       "      <td>2323.750000</td>\n",
       "    </tr>\n",
       "    <tr>\n",
       "      <th>50%</th>\n",
       "      <td>2017.000000</td>\n",
       "      <td>99212.000000</td>\n",
       "      <td>5448.500000</td>\n",
       "    </tr>\n",
       "    <tr>\n",
       "      <th>75%</th>\n",
       "      <td>2020.000000</td>\n",
       "      <td>159291.500000</td>\n",
       "      <td>11946.750000</td>\n",
       "    </tr>\n",
       "    <tr>\n",
       "      <th>max</th>\n",
       "      <td>2025.000000</td>\n",
       "      <td>418428.000000</td>\n",
       "      <td>72641.000000</td>\n",
       "    </tr>\n",
       "  </tbody>\n",
       "</table>\n",
       "</div>"
      ],
      "text/plain": [
       "              year        mileage         price\n",
       "count  2068.000000    2068.000000   2068.000000\n",
       "mean   2016.975822  115626.364603   9182.621857\n",
       "std       4.610981   80971.112603   9964.093618\n",
       "min    2005.000000       0.000000   1140.000000\n",
       "25%    2014.000000   57683.250000   2323.750000\n",
       "50%    2017.000000   99212.000000   5448.500000\n",
       "75%    2020.000000  159291.500000  11946.750000\n",
       "max    2025.000000  418428.000000  72641.000000"
      ]
     },
     "execution_count": 67,
     "metadata": {},
     "output_type": "execute_result"
    }
   ],
   "source": [
    "df.describe()"
   ]
  },
  {
   "cell_type": "code",
   "execution_count": 68,
   "id": "79e5311f",
   "metadata": {},
   "outputs": [
    {
     "data": {
      "text/plain": [
       "<seaborn.axisgrid.PairGrid at 0x22731525d30>"
      ]
     },
     "execution_count": 68,
     "metadata": {},
     "output_type": "execute_result"
    },
    {
     "data": {
      "image/png": "[encoded data removed]",
      "text/plain": [
       "<Figure size 750x750 with 12 Axes>"
      ]
     },
     "metadata": {},
     "output_type": "display_data"
    }
   ],
   "source": [
    "sns.pairplot((df))"
   ]
  },
  {
   "cell_type": "code",
   "execution_count": 69,
   "id": "badc8b59",
   "metadata": {},
   "outputs": [
    {
     "data": {
      "application/vnd.microsoft.datawrangler.viewer.v0+json": {
       "columns": [
        {
         "name": "index",
         "rawType": "object",
         "type": "string"
        },
        {
         "name": "0",
         "rawType": "int64",
         "type": "integer"
        }
       ],
       "ref": "c7fac5ad-c3b1-455d-b747-846d120b03b8",
       "rows": [
        [
         "make",
         "0"
        ],
        [
         "model",
         "0"
        ],
        [
         "year",
         "0"
        ],
        [
         "trim",
         "244"
        ],
        [
         "body_type",
         "0"
        ],
        [
         "fuel_type",
         "0"
        ],
        [
         "transmission",
         "0"
        ],
        [
         "mileage",
         "0"
        ],
        [
         "price",
         "0"
        ],
        [
         "condition",
         "46"
        ],
        [
         "location",
         "0"
        ],
        [
         "seller_type",
         "0"
        ],
        [
         "features",
         "151"
        ]
       ],
       "shape": {
        "columns": 1,
        "rows": 13
       }
      },
      "text/plain": [
       "make              0\n",
       "model             0\n",
       "year              0\n",
       "trim            244\n",
       "body_type         0\n",
       "fuel_type         0\n",
       "transmission      0\n",
       "mileage           0\n",
       "price             0\n",
       "condition        46\n",
       "location          0\n",
       "seller_type       0\n",
       "features        151\n",
       "dtype: int64"
      ]
     },
     "execution_count": 69,
     "metadata": {},
     "output_type": "execute_result"
    }
   ],
   "source": [
    "df.isna().sum()"
   ]
  },
  {
   "cell_type": "code",
   "execution_count": 70,
   "id": "06a3c477",
   "metadata": {},
   "outputs": [
    {
     "data": {
      "application/vnd.microsoft.datawrangler.viewer.v0+json": {
       "columns": [
        {
         "name": "index",
         "rawType": "int64",
         "type": "integer"
        },
        {
         "name": "make",
         "rawType": "object",
         "type": "string"
        },
        {
         "name": "model",
         "rawType": "object",
         "type": "string"
        },
        {
         "name": "year",
         "rawType": "int64",
         "type": "integer"
        },
        {
         "name": "trim",
         "rawType": "object",
         "type": "string"
        },
        {
         "name": "body_type",
         "rawType": "object",
         "type": "string"
        },
        {
         "name": "fuel_type",
         "rawType": "object",
         "type": "string"
        },
        {
         "name": "transmission",
         "rawType": "object",
         "type": "string"
        },
        {
         "name": "mileage",
         "rawType": "int64",
         "type": "integer"
        },
        {
         "name": "price",
         "rawType": "float64",
         "type": "float"
        },
        {
         "name": "condition",
         "rawType": "object",
         "type": "string"
        },
        {
         "name": "location",
         "rawType": "object",
         "type": "string"
        },
        {
         "name": "seller_type",
         "rawType": "object",
         "type": "string"
        },
        {
         "name": "features",
         "rawType": "object",
         "type": "string"
        }
       ],
       "ref": "3f08b29f-4546-4ac1-b4a7-08bd88b701fe",
       "rows": [],
       "shape": {
        "columns": 13,
        "rows": 0
       }
      },
      "text/html": [
       "<div>\n",
       "<style scoped>\n",
       "    .dataframe tbody tr th:only-of-type {\n",
       "        vertical-align: middle;\n",
       "    }\n",
       "\n",
       "    .dataframe tbody tr th {\n",
       "        vertical-align: top;\n",
       "    }\n",
       "\n",
       "    .dataframe thead th {\n",
       "        text-align: right;\n",
       "    }\n",
       "</style>\n",
       "<table border=\"1\" class=\"dataframe\">\n",
       "  <thead>\n",
       "    <tr style=\"text-align: right;\">\n",
       "      <th></th>\n",
       "      <th>make</th>\n",
       "      <th>model</th>\n",
       "      <th>year</th>\n",
       "      <th>trim</th>\n",
       "      <th>body_type</th>\n",
       "      <th>fuel_type</th>\n",
       "      <th>transmission</th>\n",
       "      <th>mileage</th>\n",
       "      <th>price</th>\n",
       "      <th>condition</th>\n",
       "      <th>location</th>\n",
       "      <th>seller_type</th>\n",
       "      <th>features</th>\n",
       "    </tr>\n",
       "  </thead>\n",
       "  <tbody>\n",
       "  </tbody>\n",
       "</table>\n",
       "</div>"
      ],
      "text/plain": [
       "Empty DataFrame\n",
       "Columns: [make, model, year, trim, body_type, fuel_type, transmission, mileage, price, condition, location, seller_type, features]\n",
       "Index: []"
      ]
     },
     "execution_count": 70,
     "metadata": {},
     "output_type": "execute_result"
    }
   ],
   "source": [
    "df.loc[df.duplicated()]"
   ]
  },
  {
   "cell_type": "code",
   "execution_count": 71,
   "id": "b70ef443",
   "metadata": {},
   "outputs": [
    {
     "data": {
      "application/vnd.microsoft.datawrangler.viewer.v0+json": {
       "columns": [
        {
         "name": "year",
         "rawType": "int64",
         "type": "integer"
        },
        {
         "name": "count",
         "rawType": "int64",
         "type": "integer"
        }
       ],
       "ref": "186a7e5e-93e1-4f68-a665-c024f331f05f",
       "rows": [
        [
         "2013",
         "174"
        ],
        [
         "2020",
         "173"
        ],
        [
         "2017",
         "167"
        ],
        [
         "2021",
         "161"
        ],
        [
         "2019",
         "158"
        ],
        [
         "2014",
         "151"
        ],
        [
         "2018",
         "144"
        ],
        [
         "2015",
         "142"
        ],
        [
         "2016",
         "132"
        ],
        [
         "2012",
         "128"
        ],
        [
         "2023",
         "92"
        ],
        [
         "2024",
         "90"
        ],
        [
         "2022",
         "86"
        ],
        [
         "2025",
         "79"
        ],
        [
         "2010",
         "30"
        ],
        [
         "2006",
         "29"
        ],
        [
         "2008",
         "29"
        ],
        [
         "2007",
         "28"
        ],
        [
         "2009",
         "27"
        ],
        [
         "2011",
         "25"
        ],
        [
         "2005",
         "23"
        ]
       ],
       "shape": {
        "columns": 1,
        "rows": 21
       }
      },
      "text/plain": [
       "year\n",
       "2013    174\n",
       "2020    173\n",
       "2017    167\n",
       "2021    161\n",
       "2019    158\n",
       "2014    151\n",
       "2018    144\n",
       "2015    142\n",
       "2016    132\n",
       "2012    128\n",
       "2023     92\n",
       "2024     90\n",
       "2022     86\n",
       "2025     79\n",
       "2010     30\n",
       "2006     29\n",
       "2008     29\n",
       "2007     28\n",
       "2009     27\n",
       "2011     25\n",
       "2005     23\n",
       "Name: count, dtype: int64"
      ]
     },
     "execution_count": 71,
     "metadata": {},
     "output_type": "execute_result"
    }
   ],
   "source": [
    "df['year'].value_counts()"
   ]
  },
  {
   "cell_type": "code",
   "execution_count": 126,
   "id": "507a75ee",
   "metadata": {},
   "outputs": [
    {
     "data": {
      "application/vnd.microsoft.datawrangler.viewer.v0+json": {
       "columns": [
        {
         "name": "year",
         "rawType": "int64",
         "type": "integer"
        },
        {
         "name": "count",
         "rawType": "int64",
         "type": "integer"
        }
       ],
       "ref": "7409596d-56de-4491-b85d-69b5655ec140",
       "rows": [
        [
         "2013",
         "174"
        ],
        [
         "2020",
         "173"
        ],
        [
         "2017",
         "167"
        ],
        [
         "2021",
         "161"
        ],
        [
         "2019",
         "158"
        ],
        [
         "2014",
         "151"
        ],
        [
         "2018",
         "144"
        ],
        [
         "2015",
         "142"
        ],
        [
         "2016",
         "132"
        ],
        [
         "2012",
         "128"
        ],
        [
         "2023",
         "92"
        ],
        [
         "2024",
         "90"
        ],
        [
         "2022",
         "86"
        ],
        [
         "2025",
         "79"
        ],
        [
         "2010",
         "30"
        ],
        [
         "2006",
         "29"
        ],
        [
         "2008",
         "29"
        ],
        [
         "2007",
         "28"
        ],
        [
         "2009",
         "27"
        ],
        [
         "2011",
         "25"
        ],
        [
         "2005",
         "23"
        ]
       ],
       "shape": {
        "columns": 1,
        "rows": 21
       }
      },
      "text/plain": [
       "year\n",
       "2013    174\n",
       "2020    173\n",
       "2017    167\n",
       "2021    161\n",
       "2019    158\n",
       "2014    151\n",
       "2018    144\n",
       "2015    142\n",
       "2016    132\n",
       "2012    128\n",
       "2023     92\n",
       "2024     90\n",
       "2022     86\n",
       "2025     79\n",
       "2010     30\n",
       "2006     29\n",
       "2008     29\n",
       "2007     28\n",
       "2009     27\n",
       "2011     25\n",
       "2005     23\n",
       "Name: count, dtype: int64"
      ]
     },
     "execution_count": 126,
     "metadata": {},
     "output_type": "execute_result"
    }
   ],
   "source": [
    "df['year'].value_counts()"
   ]
  },
  {
   "cell_type": "code",
   "execution_count": null,
   "id": "5fdc6be4",
   "metadata": {},
   "outputs": [
    {
     "data": {
      "text/plain": [
       "<Axes: xlabel='year', ylabel='count'>"
      ]
     },
     "execution_count": 129,
     "metadata": {},
     "output_type": "execute_result"
    },
    {
     "data": {
      "image/png": "[encoded data removed]",
      "text/plain": [
       "<Figure size 2000x800 with 1 Axes>"
      ]
     },
     "metadata": {},
     "output_type": "display_data"
    }
   ],
   "source": [
    "sns.countplot(x=\"year\", data=df)  "
   ]
  },
  {
   "cell_type": "code",
   "execution_count": 117,
   "id": "0dba7ec8",
   "metadata": {},
   "outputs": [
    {
     "data": {
      "application/vnd.microsoft.datawrangler.viewer.v0+json": {
       "columns": [
        {
         "name": "index",
         "rawType": "int64",
         "type": "integer"
        },
        {
         "name": "make",
         "rawType": "object",
         "type": "string"
        },
        {
         "name": "model",
         "rawType": "object",
         "type": "string"
        },
        {
         "name": "year",
         "rawType": "int64",
         "type": "integer"
        },
        {
         "name": "trim",
         "rawType": "object",
         "type": "unknown"
        },
        {
         "name": "body_type",
         "rawType": "object",
         "type": "string"
        },
        {
         "name": "fuel_type",
         "rawType": "object",
         "type": "string"
        },
        {
         "name": "transmission",
         "rawType": "object",
         "type": "string"
        },
        {
         "name": "mileage",
         "rawType": "int64",
         "type": "integer"
        },
        {
         "name": "price",
         "rawType": "float64",
         "type": "float"
        },
        {
         "name": "condition",
         "rawType": "object",
         "type": "unknown"
        },
        {
         "name": "location",
         "rawType": "object",
         "type": "string"
        },
        {
         "name": "seller_type",
         "rawType": "object",
         "type": "string"
        },
        {
         "name": "features",
         "rawType": "object",
         "type": "unknown"
        }
       ],
       "ref": "a2c52565-f80f-42ac-9dcc-c57225206a6e",
       "rows": [
        [
         "0",
         "Tesla",
         "Model 3",
         "2019",
         null,
         "Coupe",
         "Electric",
         "Manual",
         "46134",
         "19919.0",
         "good",
         "New Lindsey, GA, US",
         "Dealer",
         "Alloy Wheels, Android Auto, Apple CarPlay, Fog Lights, LED Headlights, Parking Sensors, Ventilated Seats"
        ],
        [
         "1",
         "Nissan",
         "Rogue",
         "2024",
         "LT",
         "Sedan",
         "Hybrid",
         "Automatic",
         "16109",
         "19480.0",
         "good",
         "Pughtown, CO, US",
         "Dealer",
         "Alloy Wheels, Android Auto, Lane Keep Assist, Navigation, Panoramic Roof, Parking Sensors, Push Button Start, Wireless Charging"
        ],
        [
         "2",
         "Hyundai",
         "i20",
         "2018",
         "XLE",
         "Crossover",
         "Petrol",
         "Automatic",
         "173239",
         "4556.0",
         "good",
         "Satna, HR, India",
         "Dealer",
         "Alloy Wheels, Bluetooth, Panoramic Roof, Sunroof"
        ],
        [
         "3",
         "Kia",
         "Sportage",
         "2023",
         "EX",
         "Hatchback",
         "Diesel",
         "CVT",
         "36810",
         "11536.0",
         "fair",
         "山武市, Osaka, Japan",
         "Certified Pre-Owned",
         "Alloy Wheels, Bluetooth, Keyless Entry, Navigation, Sunroof, Wireless Charging"
        ],
        [
         "4",
         "Kia",
         "Seltos",
         "2020",
         "Trend",
         "Pickup",
         "Diesel",
         "Automatic",
         "87749",
         "14098.0",
         "good",
         "長生郡長生村, Osaka, Japan",
         "Certified Pre-Owned",
         "Apple CarPlay, Backup Camera, Bluetooth, Heated Seats, Lane Keep Assist, Panoramic Roof, Push Button Start, Wireless Charging"
        ],
        [
         "5",
         "Mercedes-Benz",
         "GLA",
         "2019",
         "Platinum",
         "Crossover",
         "Electric",
         "CVT",
         "60853",
         "17137.0",
         "excellent",
         "Christopherfort, NB, Canada",
         "Dealer",
         "Apple CarPlay, Backup Camera, Blind Spot Monitor, Heated Seats, Leather Seats, Navigation, Parking Sensors, Wireless Charging"
        ],
        [
         "6",
         "Kia",
         "Sorento",
         "2013",
         "EX",
         "Coupe",
         "Petrol",
         "Manual",
         "92762",
         "2436.0",
         "fair",
         "West Susanburgh, NB, Canada",
         "Dealer",
         "Adaptive Cruise Control, Alloy Wheels, Apple CarPlay, Bluetooth, LED Headlights, Lane Keep Assist, Leather Seats, Push Button Start, Sunroof"
        ],
        [
         "7",
         "Tata",
         "Altroz",
         "2017",
         "Long Range",
         "Crossover",
         "Petrol",
         "CVT",
         "204753",
         "2620.0",
         "excellent",
         "Perrot-sur-Mer, NAQ, France",
         "Certified Pre-Owned",
         "Apple CarPlay, Backup Camera, Fog Lights, Heated Seats, Keyless Entry, Lane Keep Assist, Navigation, Ventilated Seats, Wireless Charging"
        ],
        [
         "8",
         "Chevrolet",
         "Silverado",
         "2018",
         "LT",
         "Crossover",
         "Petrol",
         "CVT",
         "103322",
         "5325.0",
         "good",
         "Lake Taylor, TAS, Australia",
         "Dealer",
         "Adaptive Cruise Control, Alloy Wheels, Backup Camera, Blind Spot Monitor, Bluetooth, Fog Lights, Keyless Entry, Lane Keep Assist, Wireless Charging"
        ],
        [
         "9",
         "Chevrolet",
         "Silverado",
         "2015",
         "LX",
         "Crossover",
         "Electric",
         "Manual",
         "119321",
         "2812.0",
         "good",
         "Mckenzieside, TAS, Australia",
         "Dealer",
         "Android Auto, Apple CarPlay, Blind Spot Monitor, LED Headlights, Ventilated Seats"
        ],
        [
         "10",
         "Toyota",
         "Camry",
         "2023",
         "Premium",
         "Crossover",
         "Petrol",
         "Automatic",
         "25103",
         "22387.0",
         "excellent",
         "Port Julie, BC, Canada",
         "Dealer",
         "Adaptive Cruise Control, Apple CarPlay, Navigation, Parking Sensors, Sunroof, Wireless Charging"
        ],
        [
         "11",
         "Skoda",
         "Octavia",
         "2014",
         "LTZ",
         "Crossover",
         "Petrol",
         "Automatic",
         "235126",
         "1738.0",
         "fair",
         "Bidar, RJ, India",
         "Certified Pre-Owned",
         "Alloy Wheels, Backup Camera, Keyless Entry, Push Button Start"
        ],
        [
         "12",
         "Chevrolet",
         "Malibu",
         "2024",
         "Touring",
         "Convertible",
         "Petrol",
         "Manual",
         "8796",
         "41256.0",
         "new",
         "New Kevinfort, SA, Australia",
         "Dealer",
         "Heated Seats, Lane Keep Assist, Leather Seats, Push Button Start"
        ],
        [
         "13",
         "Kia",
         "Sorento",
         "2023",
         "XSE",
         "Van",
         "Petrol",
         "Automatic",
         "20300",
         "22175.0",
         "excellent",
         "Martinburgh, IL, US",
         "Private Party",
         "Adaptive Cruise Control, Backup Camera, Heated Seats, Parking Sensors"
        ],
        [
         "14",
         "Tata",
         "Nexon",
         "2023",
         "EX",
         "MPV",
         "Diesel",
         "Automatic",
         "31363",
         "13669.0",
         "excellent",
         "North Katherine, TAS, Australia",
         "Dealer",
         "Adaptive Cruise Control, Alloy Wheels, Fog Lights, Heated Seats, Lane Keep Assist, Leather Seats, Panoramic Roof, Parking Sensors"
        ],
        [
         "16",
         "Kia",
         "Sorento",
         "2025",
         "Limited",
         "Hatchback",
         "Diesel",
         "AMT",
         "0",
         "23304.0",
         "excellent",
         "Port Debramouth, TAS, Australia",
         "Private Party",
         "Adaptive Cruise Control, Android Auto, Blind Spot Monitor, Fog Lights, LED Headlights, Panoramic Roof, Push Button Start, Sunroof"
        ],
        [
         "17",
         "Chevrolet",
         "Silverado",
         "2020",
         "XLE",
         "MPV",
         "Petrol",
         "Automatic",
         "76339",
         "9226.0",
         "good",
         "Vincent, ARA, France",
         "Private Party",
         "Android Auto, Backup Camera, Bluetooth, Fog Lights, Lane Keep Assist, Leather Seats, Navigation, Ventilated Seats, Wireless Charging"
        ],
        [
         "18",
         "Tata",
         "Altroz",
         "2023",
         "Platinum",
         "Van",
         "Petrol",
         "AMT",
         "26945",
         "14684.0",
         "excellent",
         "Solomonberg, ON, Canada",
         "Private Party",
         "Android Auto, Keyless Entry, Leather Seats, Panoramic Roof, Push Button Start, Wireless Charging"
        ],
        [
         "19",
         "Honda",
         "Accord",
         "2016",
         "Sport",
         "Sedan",
         "Petrol",
         "Manual",
         "69929",
         "4716.0",
         "excellent",
         "East London, KZN, South Africa",
         "Dealer",
         "Android Auto, Apple CarPlay, Navigation, Sunroof, Wireless Charging"
        ],
        [
         "20",
         "Ford",
         "F-150",
         "2021",
         "XLE",
         "Convertible",
         "Petrol",
         "DCT",
         "65873",
         "12625.0",
         "fair",
         "Pretoria, NC, South Africa",
         "Dealer",
         null
        ],
        [
         "21",
         "Maruti",
         "Dzire",
         "2016",
         "Performance",
         "Sedan",
         "Petrol",
         "Automatic",
         "188669",
         "1854.0",
         "good",
         "Fischer, BFC, France",
         "Private Party",
         "Android Auto, Fog Lights, Keyless Entry, Lane Keep Assist, Leather Seats, Panoramic Roof, Sunroof, Ventilated Seats"
        ],
        [
         "22",
         "Kia",
         "Sonet",
         "2018",
         "XSE",
         "SUV",
         "Electric",
         "Automatic",
         "126531",
         "8648.0",
         "excellent",
         "Jülich, ST, Germany",
         "Certified Pre-Owned",
         "Fog Lights, Heated Seats, Keyless Entry, LED Headlights, Leather Seats, Navigation, Parking Sensors, Sunroof, Ventilated Seats"
        ],
        [
         "23",
         "Ford",
         "Maverick",
         "2015",
         "Long Range",
         "Crossover",
         "Hybrid",
         "Automatic",
         "257067",
         "2412.0",
         "good",
         "Bruchsal, BY, Germany",
         "Dealer",
         "Adaptive Cruise Control, Android Auto, Backup Camera, Push Button Start"
        ],
        [
         "24",
         "Audi",
         "A4",
         "2020",
         "Base",
         "Pickup",
         "Petrol",
         "Manual",
         "82274",
         "18479.0",
         "good",
         "South Christine, CA, US",
         "Certified Pre-Owned",
         "Alloy Wheels, Backup Camera, Bluetooth, Sunroof, Wireless Charging"
        ],
        [
         "25",
         "BMW",
         "3 Series",
         "2016",
         "LX",
         "Crossover",
         "Hybrid",
         "Automatic",
         "193574",
         "5229.0",
         "good",
         "Oranienburg, BB, Germany",
         "Dealer",
         null
        ],
        [
         "26",
         "Audi",
         "Q3",
         "2021",
         "L",
         "Convertible",
         "Petrol",
         "CVT",
         "48012",
         "28849.0",
         "excellent",
         "New Justin, WA, Australia",
         "Certified Pre-Owned",
         "Adaptive Cruise Control, Panoramic Roof, Parking Sensors, Push Button Start"
        ],
        [
         "27",
         "Skoda",
         "Octavia",
         "2022",
         "Titanium",
         "MPV",
         "Plug-in Hybrid",
         "Automatic",
         "34276",
         "13596.0",
         "fair",
         "Lake Timothy, BC, Canada",
         "Private Party",
         "Adaptive Cruise Control, Android Auto, Fog Lights, Heated Seats, Lane Keep Assist, Leather Seats, Panoramic Roof, Sunroof, Wireless Charging"
        ],
        [
         "28",
         "Toyota",
         "Highlander",
         "2018",
         null,
         "MPV",
         "Electric",
         "Automatic",
         "81836",
         "6755.0",
         "excellent",
         "Port Carol, ENG, UK",
         "Dealer",
         "Alloy Wheels, Bluetooth, Heated Seats, Panoramic Roof"
        ],
        [
         "29",
         "BMW",
         "5 Series",
         "2017",
         "Long Range",
         "MPV",
         "Petrol",
         "CVT",
         "196909",
         "5035.0",
         "good",
         "Gifhorn, RP, Germany",
         "Dealer",
         "Bluetooth, Fog Lights, Lane Keep Assist, Push Button Start, Sunroof"
        ],
        [
         "30",
         "Mercedes-Benz",
         "GLA",
         "2018",
         "Base",
         "Van",
         "Plug-in Hybrid",
         "Manual",
         "41899",
         "14723.0",
         "excellent",
         "Piercemouth, NJ, US",
         "Certified Pre-Owned",
         "Android Auto, Apple CarPlay, Backup Camera, Fog Lights, Keyless Entry, LED Headlights, Push Button Start"
        ],
        [
         "31",
         "Chevrolet",
         "Equinox",
         "2021",
         null,
         "Van",
         "Petrol",
         "Automatic",
         "63040",
         "11593.0",
         "excellent",
         "Johnmouth, QC, Canada",
         "Dealer",
         "Alloy Wheels, Apple CarPlay, Backup Camera, Heated Seats, Lane Keep Assist, Leather Seats, Navigation, Parking Sensors, Ventilated Seats"
        ],
        [
         "33",
         "Volkswagen",
         "Taigun",
         "2017",
         "LT",
         "Pickup",
         "Electric",
         "Automatic",
         "44122",
         "10902.0",
         "excellent",
         "Bloemfontein, NC, South Africa",
         "Dealer",
         "Alloy Wheels, Apple CarPlay, Backup Camera, Leather Seats, Push Button Start"
        ],
        [
         "34",
         "Tesla",
         "Model Y",
         "2022",
         "Titanium",
         "Hatchback",
         "Hybrid",
         "Manual",
         "44429",
         "16352.0",
         null,
         "Durban, FS, South Africa",
         "Private Party",
         null
        ],
        [
         "35",
         "Skoda",
         "Octavia",
         "2020",
         "LTZ",
         "Pickup",
         "Petrol",
         "CVT",
         "134201",
         "11509.0",
         "good",
         "Sigmaringen, SH, Germany",
         "Dealer",
         "Adaptive Cruise Control, Apple CarPlay, Bluetooth, Fog Lights, Wireless Charging"
        ],
        [
         "37",
         "Ford",
         "F-150",
         "2022",
         "LT",
         "Convertible",
         "Petrol",
         "Manual",
         "56167",
         "22100.0",
         "excellent",
         "Bhilai, WB, India",
         "Dealer",
         "Apple CarPlay, Blind Spot Monitor, Heated Seats, LED Headlights, Lane Keep Assist, Push Button Start, Ventilated Seats, Wireless Charging"
        ],
        [
         "38",
         "Chevrolet",
         "Equinox",
         "2022",
         "Trend",
         "Van",
         "Petrol",
         "Automatic",
         "32353",
         "12587.0",
         "fair",
         "Williamstown, NT, Australia",
         "Dealer",
         "Blind Spot Monitor, Bluetooth, Heated Seats, Leather Seats, Navigation, Push Button Start, Ventilated Seats"
        ],
        [
         "40",
         "Mahindra",
         "Bolero",
         "2013",
         null,
         "SUV",
         "Petrol",
         "CVT",
         "197432",
         "1234.0",
         "fair",
         "Bailly, HDF, France",
         "Private Party",
         "Android Auto, Apple CarPlay, Bluetooth, Fog Lights, Heated Seats, Keyless Entry, Navigation, Sunroof, Ventilated Seats"
        ],
        [
         "41",
         "Hyundai",
         "Creta",
         "2015",
         "XSE",
         "MPV",
         "Petrol",
         "Manual",
         "193706",
         "2342.0",
         "good",
         "Sainte AlfredVille, NAQ, France",
         "Private Party",
         "Adaptive Cruise Control, Android Auto, Heated Seats, Navigation, Sunroof, Ventilated Seats"
        ],
        [
         "42",
         "BMW",
         "5 Series",
         "2016",
         "XLE",
         "Hatchback",
         "Petrol",
         "Automatic",
         "182471",
         "3872.0",
         "good",
         "Besson, HDF, France",
         "Private Party",
         "Apple CarPlay, Backup Camera, Keyless Entry, LED Headlights, Navigation, Push Button Start"
        ],
        [
         "44",
         "Chevrolet",
         "Trax",
         "2025",
         "Limited",
         "Pickup",
         "Plug-in Hybrid",
         "Automatic",
         "0",
         "53315.0",
         "excellent",
         "Deniseland, ACT, Australia",
         "Dealer",
         "Alloy Wheels, Android Auto, Backup Camera, Blind Spot Monitor, Bluetooth, Keyless Entry, Sunroof"
        ],
        [
         "46",
         "Toyota",
         "Tacoma",
         "2014",
         "Long Range",
         "Sedan",
         "Petrol",
         "Manual",
         "163127",
         "1991.0",
         "excellent",
         "New Ellie, NIR, UK",
         "Certified Pre-Owned",
         "Alloy Wheels, Android Auto, Blind Spot Monitor, Fog Lights, Keyless Entry, Lane Keep Assist, Sunroof"
        ],
        [
         "47",
         "Mahindra",
         "XUV700",
         "2015",
         "L",
         "Hatchback",
         "Petrol",
         "Automatic",
         "222586",
         "1168.0",
         null,
         "豊島区, Tokyo, Japan",
         "Dealer",
         null
        ],
        [
         "48",
         "Chevrolet",
         "Trax",
         "2017",
         "LX",
         "Coupe",
         "Diesel",
         "Automatic",
         "77722",
         "7524.0",
         "new",
         "Morganfurt, AZ, US",
         "Private Party",
         "Backup Camera, Bluetooth, Fog Lights, Keyless Entry, Leather Seats, Navigation, Parking Sensors"
        ],
        [
         "49",
         "Tesla",
         "Model Y",
         "2017",
         "Performance",
         "Crossover",
         "Petrol",
         "Manual",
         "121829",
         "6683.0",
         "excellent",
         "Câmara, PR, Brazil",
         "Dealer",
         "Android Auto, Apple CarPlay, Blind Spot Monitor, Heated Seats, LED Headlights, Lane Keep Assist, Panoramic Roof, Push Button Start, Sunroof"
        ],
        [
         "50",
         "Ford",
         "Explorer",
         "2015",
         "Trend",
         "Van",
         "Petrol",
         "Automatic",
         "237718",
         "2324.0",
         "good",
         "Etawah, PB, India",
         "Private Party",
         "Backup Camera, Heated Seats, LED Headlights, Panoramic Roof, Ventilated Seats"
        ],
        [
         "51",
         "BMW",
         "X5",
         "2019",
         null,
         "Sedan",
         "Diesel",
         "Manual",
         "93051",
         "9810.0",
         "excellent",
         "Lake Sabrina, MB, Canada",
         "Dealer",
         "Alloy Wheels, Blind Spot Monitor, Fog Lights, LED Headlights, Navigation, Push Button Start"
        ],
        [
         "52",
         "Tata",
         "Altroz",
         "2021",
         "Touring",
         "Crossover",
         "CNG",
         "Manual",
         "79671",
         "9345.0",
         "good",
         "Serampore, RJ, India",
         "Dealer",
         "Android Auto, Apple CarPlay, Backup Camera, Blind Spot Monitor, Bluetooth, Push Button Start"
        ],
        [
         "53",
         "Chevrolet",
         "Malibu",
         "2023",
         "Limited",
         "Pickup",
         "Petrol",
         "Automatic",
         "28313",
         "30968.0",
         "excellent",
         "安房郡鋸南町, Kyoto, Japan",
         "Dealer",
         "Adaptive Cruise Control, Apple CarPlay, Backup Camera, Blind Spot Monitor, Bluetooth, Fog Lights, Leather Seats, Push Button Start, Wireless Charging"
        ],
        [
         "54",
         "Volkswagen",
         "Taigun",
         "2013",
         null,
         "Hatchback",
         "Electric",
         "CVT",
         "149055",
         "1322.0",
         "like new",
         "Petersontown, NT, Australia",
         "Dealer",
         null
        ],
        [
         "55",
         "Mahindra",
         "XUV700",
         "2013",
         "SE",
         "Pickup",
         "Electric",
         "Automatic",
         "171623",
         "2333.0",
         "excellent",
         "江東区, Aichi, Japan",
         "Private Party",
         "Adaptive Cruise Control, Backup Camera, Blind Spot Monitor, Bluetooth, Lane Keep Assist, Navigation, Parking Sensors, Push Button Start, Wireless Charging"
        ]
       ],
       "shape": {
        "columns": 13,
        "rows": 1749
       }
      },
      "text/html": [
       "<div>\n",
       "<style scoped>\n",
       "    .dataframe tbody tr th:only-of-type {\n",
       "        vertical-align: middle;\n",
       "    }\n",
       "\n",
       "    .dataframe tbody tr th {\n",
       "        vertical-align: top;\n",
       "    }\n",
       "\n",
       "    .dataframe thead th {\n",
       "        text-align: right;\n",
       "    }\n",
       "</style>\n",
       "<table border=\"1\" class=\"dataframe\">\n",
       "  <thead>\n",
       "    <tr style=\"text-align: right;\">\n",
       "      <th></th>\n",
       "      <th>make</th>\n",
       "      <th>model</th>\n",
       "      <th>year</th>\n",
       "      <th>trim</th>\n",
       "      <th>body_type</th>\n",
       "      <th>fuel_type</th>\n",
       "      <th>transmission</th>\n",
       "      <th>mileage</th>\n",
       "      <th>price</th>\n",
       "      <th>condition</th>\n",
       "      <th>location</th>\n",
       "      <th>seller_type</th>\n",
       "      <th>features</th>\n",
       "    </tr>\n",
       "  </thead>\n",
       "  <tbody>\n",
       "    <tr>\n",
       "      <th>0</th>\n",
       "      <td>Tesla</td>\n",
       "      <td>Model 3</td>\n",
       "      <td>2019</td>\n",
       "      <td>NaN</td>\n",
       "      <td>Coupe</td>\n",
       "      <td>Electric</td>\n",
       "      <td>Manual</td>\n",
       "      <td>46134</td>\n",
       "      <td>19919.0</td>\n",
       "      <td>good</td>\n",
       "      <td>New Lindsey, GA, US</td>\n",
       "      <td>Dealer</td>\n",
       "      <td>Alloy Wheels, Android Auto, Apple CarPlay, Fog...</td>\n",
       "    </tr>\n",
       "    <tr>\n",
       "      <th>1</th>\n",
       "      <td>Nissan</td>\n",
       "      <td>Rogue</td>\n",
       "      <td>2024</td>\n",
       "      <td>LT</td>\n",
       "      <td>Sedan</td>\n",
       "      <td>Hybrid</td>\n",
       "      <td>Automatic</td>\n",
       "      <td>16109</td>\n",
       "      <td>19480.0</td>\n",
       "      <td>good</td>\n",
       "      <td>Pughtown, CO, US</td>\n",
       "      <td>Dealer</td>\n",
       "      <td>Alloy Wheels, Android Auto, Lane Keep Assist, ...</td>\n",
       "    </tr>\n",
       "    <tr>\n",
       "      <th>2</th>\n",
       "      <td>Hyundai</td>\n",
       "      <td>i20</td>\n",
       "      <td>2018</td>\n",
       "      <td>XLE</td>\n",
       "      <td>Crossover</td>\n",
       "      <td>Petrol</td>\n",
       "      <td>Automatic</td>\n",
       "      <td>173239</td>\n",
       "      <td>4556.0</td>\n",
       "      <td>good</td>\n",
       "      <td>Satna, HR, India</td>\n",
       "      <td>Dealer</td>\n",
       "      <td>Alloy Wheels, Bluetooth, Panoramic Roof, Sunroof</td>\n",
       "    </tr>\n",
       "    <tr>\n",
       "      <th>3</th>\n",
       "      <td>Kia</td>\n",
       "      <td>Sportage</td>\n",
       "      <td>2023</td>\n",
       "      <td>EX</td>\n",
       "      <td>Hatchback</td>\n",
       "      <td>Diesel</td>\n",
       "      <td>CVT</td>\n",
       "      <td>36810</td>\n",
       "      <td>11536.0</td>\n",
       "      <td>fair</td>\n",
       "      <td>山武市, Osaka, Japan</td>\n",
       "      <td>Certified Pre-Owned</td>\n",
       "      <td>Alloy Wheels, Bluetooth, Keyless Entry, Naviga...</td>\n",
       "    </tr>\n",
       "    <tr>\n",
       "      <th>4</th>\n",
       "      <td>Kia</td>\n",
       "      <td>Seltos</td>\n",
       "      <td>2020</td>\n",
       "      <td>Trend</td>\n",
       "      <td>Pickup</td>\n",
       "      <td>Diesel</td>\n",
       "      <td>Automatic</td>\n",
       "      <td>87749</td>\n",
       "      <td>14098.0</td>\n",
       "      <td>good</td>\n",
       "      <td>長生郡長生村, Osaka, Japan</td>\n",
       "      <td>Certified Pre-Owned</td>\n",
       "      <td>Apple CarPlay, Backup Camera, Bluetooth, Heate...</td>\n",
       "    </tr>\n",
       "    <tr>\n",
       "      <th>...</th>\n",
       "      <td>...</td>\n",
       "      <td>...</td>\n",
       "      <td>...</td>\n",
       "      <td>...</td>\n",
       "      <td>...</td>\n",
       "      <td>...</td>\n",
       "      <td>...</td>\n",
       "      <td>...</td>\n",
       "      <td>...</td>\n",
       "      <td>...</td>\n",
       "      <td>...</td>\n",
       "      <td>...</td>\n",
       "      <td>...</td>\n",
       "    </tr>\n",
       "    <tr>\n",
       "      <th>2063</th>\n",
       "      <td>Skoda</td>\n",
       "      <td>Kushaq</td>\n",
       "      <td>2023</td>\n",
       "      <td>Sport</td>\n",
       "      <td>Pickup</td>\n",
       "      <td>Petrol</td>\n",
       "      <td>Automatic</td>\n",
       "      <td>24566</td>\n",
       "      <td>34696.0</td>\n",
       "      <td>like new</td>\n",
       "      <td>Shahjahanpur, KA, India</td>\n",
       "      <td>Certified Pre-Owned</td>\n",
       "      <td>Blind Spot Monitor, Keyless Entry, Panoramic R...</td>\n",
       "    </tr>\n",
       "    <tr>\n",
       "      <th>2064</th>\n",
       "      <td>Mahindra</td>\n",
       "      <td>Scorpio</td>\n",
       "      <td>2016</td>\n",
       "      <td>XSE</td>\n",
       "      <td>SUV</td>\n",
       "      <td>Diesel</td>\n",
       "      <td>Automatic</td>\n",
       "      <td>122459</td>\n",
       "      <td>2642.0</td>\n",
       "      <td>excellent</td>\n",
       "      <td>Marques, PR, Brazil</td>\n",
       "      <td>Dealer</td>\n",
       "      <td>Adaptive Cruise Control, Backup Camera, LED He...</td>\n",
       "    </tr>\n",
       "    <tr>\n",
       "      <th>2065</th>\n",
       "      <td>Audi</td>\n",
       "      <td>A6</td>\n",
       "      <td>2018</td>\n",
       "      <td>EX</td>\n",
       "      <td>Hatchback</td>\n",
       "      <td>Diesel</td>\n",
       "      <td>DCT</td>\n",
       "      <td>120452</td>\n",
       "      <td>7093.0</td>\n",
       "      <td>good</td>\n",
       "      <td>Dhanbad, KL, India</td>\n",
       "      <td>Private Party</td>\n",
       "      <td>Adaptive Cruise Control, Android Auto, Blind S...</td>\n",
       "    </tr>\n",
       "    <tr>\n",
       "      <th>2066</th>\n",
       "      <td>Skoda</td>\n",
       "      <td>Kushaq</td>\n",
       "      <td>2021</td>\n",
       "      <td>LX</td>\n",
       "      <td>MPV</td>\n",
       "      <td>Petrol</td>\n",
       "      <td>Manual</td>\n",
       "      <td>57043</td>\n",
       "      <td>11296.0</td>\n",
       "      <td>excellent</td>\n",
       "      <td>Caitlinstad, NL, Canada</td>\n",
       "      <td>Certified Pre-Owned</td>\n",
       "      <td>Backup Camera, Panoramic Roof, Parking Sensors...</td>\n",
       "    </tr>\n",
       "    <tr>\n",
       "      <th>2067</th>\n",
       "      <td>Chevrolet</td>\n",
       "      <td>Malibu</td>\n",
       "      <td>2024</td>\n",
       "      <td>Platinum</td>\n",
       "      <td>Sedan</td>\n",
       "      <td>Diesel</td>\n",
       "      <td>Automatic</td>\n",
       "      <td>20218</td>\n",
       "      <td>23558.0</td>\n",
       "      <td>excellent</td>\n",
       "      <td>Stadtroda, HH, Germany</td>\n",
       "      <td>Certified Pre-Owned</td>\n",
       "      <td>Adaptive Cruise Control, Android Auto, Apple C...</td>\n",
       "    </tr>\n",
       "  </tbody>\n",
       "</table>\n",
       "<p>1749 rows × 13 columns</p>\n",
       "</div>"
      ],
      "text/plain": [
       "           make     model  year      trim  body_type fuel_type transmission  \\\n",
       "0         Tesla   Model 3  2019       NaN      Coupe  Electric       Manual   \n",
       "1        Nissan     Rogue  2024        LT      Sedan    Hybrid    Automatic   \n",
       "2       Hyundai       i20  2018       XLE  Crossover    Petrol    Automatic   \n",
       "3           Kia  Sportage  2023        EX  Hatchback    Diesel          CVT   \n",
       "4           Kia    Seltos  2020     Trend     Pickup    Diesel    Automatic   \n",
       "...         ...       ...   ...       ...        ...       ...          ...   \n",
       "2063      Skoda    Kushaq  2023     Sport     Pickup    Petrol    Automatic   \n",
       "2064   Mahindra   Scorpio  2016       XSE        SUV    Diesel    Automatic   \n",
       "2065       Audi        A6  2018        EX  Hatchback    Diesel          DCT   \n",
       "2066      Skoda    Kushaq  2021        LX        MPV    Petrol       Manual   \n",
       "2067  Chevrolet    Malibu  2024  Platinum      Sedan    Diesel    Automatic   \n",
       "\n",
       "      mileage    price  condition                 location  \\\n",
       "0       46134  19919.0       good      New Lindsey, GA, US   \n",
       "1       16109  19480.0       good         Pughtown, CO, US   \n",
       "2      173239   4556.0       good         Satna, HR, India   \n",
       "3       36810  11536.0       fair        山武市, Osaka, Japan   \n",
       "4       87749  14098.0       good     長生郡長生村, Osaka, Japan   \n",
       "...       ...      ...        ...                      ...   \n",
       "2063    24566  34696.0   like new  Shahjahanpur, KA, India   \n",
       "2064   122459   2642.0  excellent      Marques, PR, Brazil   \n",
       "2065   120452   7093.0       good       Dhanbad, KL, India   \n",
       "2066    57043  11296.0  excellent  Caitlinstad, NL, Canada   \n",
       "2067    20218  23558.0  excellent   Stadtroda, HH, Germany   \n",
       "\n",
       "              seller_type                                           features  \n",
       "0                  Dealer  Alloy Wheels, Android Auto, Apple CarPlay, Fog...  \n",
       "1                  Dealer  Alloy Wheels, Android Auto, Lane Keep Assist, ...  \n",
       "2                  Dealer   Alloy Wheels, Bluetooth, Panoramic Roof, Sunroof  \n",
       "3     Certified Pre-Owned  Alloy Wheels, Bluetooth, Keyless Entry, Naviga...  \n",
       "4     Certified Pre-Owned  Apple CarPlay, Backup Camera, Bluetooth, Heate...  \n",
       "...                   ...                                                ...  \n",
       "2063  Certified Pre-Owned  Blind Spot Monitor, Keyless Entry, Panoramic R...  \n",
       "2064               Dealer  Adaptive Cruise Control, Backup Camera, LED He...  \n",
       "2065        Private Party  Adaptive Cruise Control, Android Auto, Blind S...  \n",
       "2066  Certified Pre-Owned  Backup Camera, Panoramic Roof, Parking Sensors...  \n",
       "2067  Certified Pre-Owned  Adaptive Cruise Control, Android Auto, Apple C...  \n",
       "\n",
       "[1749 rows x 13 columns]"
      ]
     },
     "execution_count": 117,
     "metadata": {},
     "output_type": "execute_result"
    }
   ],
   "source": [
    "df.query(\"year>2012\")"
   ]
  },
  {
   "cell_type": "code",
   "execution_count": 72,
   "id": "219c1fdb",
   "metadata": {},
   "outputs": [
    {
     "data": {
      "text/plain": [
       "<Axes: title={'center': 'Top 10 Years of Cars'}, xlabel='year', ylabel='count'>"
      ]
     },
     "execution_count": 72,
     "metadata": {},
     "output_type": "execute_result"
    },
    {
     "data": {
      "image/png": "[encoded data removed]",
      "text/plain": [
       "<Figure size 1200x600 with 1 Axes>"
      ]
     },
     "metadata": {},
     "output_type": "display_data"
    }
   ],
   "source": [
    "df['year'].value_counts()\\\n",
    "    .head(10)\\\n",
    "    .plot(kind='bar', figsize=(12, 6), color='skyblue',title=\"Top 10 Years of Cars\",ylabel=\"count\")"
   ]
  },
  {
   "cell_type": "code",
   "execution_count": 132,
   "id": "0700b2d5",
   "metadata": {},
   "outputs": [
    {
     "data": {
      "text/plain": [
       "<Axes: title={'center': 'Price Distribution'}, xlabel='price', ylabel='Frequency'>"
      ]
     },
     "execution_count": 132,
     "metadata": {},
     "output_type": "execute_result"
    },
    {
     "data": {
      "image/png": "[encoded data removed]",
      "text/plain": [
       "<Figure size 1200x600 with 1 Axes>"
      ]
     },
     "metadata": {},
     "output_type": "display_data"
    }
   ],
   "source": [
    "df[\"price\"].plot(kind='hist', figsize=(12, 6), title=\"Price Distribution\",bins=100,xlabel=\"price\")"
   ]
  },
  {
   "cell_type": "code",
   "execution_count": 74,
   "id": "73f07d67",
   "metadata": {},
   "outputs": [
    {
     "data": {
      "text/plain": [
       "<Axes: title={'center': 'Price Distribution'}, ylabel='Density'>"
      ]
     },
     "execution_count": 74,
     "metadata": {},
     "output_type": "execute_result"
    },
    {
     "data": {
      "image/png": "[encoded data removed]",
      "text/plain": [
       "<Figure size 1200x600 with 1 Axes>"
      ]
     },
     "metadata": {},
     "output_type": "display_data"
    }
   ],
   "source": [
    "df[\"price\"].plot(kind='kde', figsize=(12, 6), title=\"Price Distribution\",xlabel=\"price\",)"
   ]
  },
  {
   "cell_type": "code",
   "execution_count": 75,
   "id": "5fe3fb73",
   "metadata": {},
   "outputs": [
    {
     "data": {
      "image/png": "[encoded data removed]",
      "text/plain": [
       "<Figure size 1200x600 with 1 Axes>"
      ]
     },
     "metadata": {},
     "output_type": "display_data"
    }
   ],
   "source": [
    "df.plot(kind=\"scatter\",x='year',y='price', figsize=(12, 6), title=\"Price vs Year\",xlabel=\"year\",ylabel=\"price\")\n",
    "plt.show()"
   ]
  },
  {
   "cell_type": "code",
   "execution_count": 76,
   "id": "eaf083be",
   "metadata": {},
   "outputs": [
    {
     "data": {
      "text/plain": [
       "<Axes: xlabel='year', ylabel='price'>"
      ]
     },
     "execution_count": 76,
     "metadata": {},
     "output_type": "execute_result"
    },
    {
     "data": {
      "image/png": "[encoded data removed]",
      "text/plain": [
       "<Figure size 640x480 with 1 Axes>"
      ]
     },
     "metadata": {},
     "output_type": "display_data"
    }
   ],
   "source": [
    "sns.scatterplot(data=df, x='year', y='price', hue='body_type', alpha=0.5, palette='viridis')"
   ]
  },
  {
   "cell_type": "code",
   "execution_count": null,
   "id": "b2c8178e",
   "metadata": {},
   "outputs": [
    {
     "data": {
      "text/plain": [
       "<seaborn.axisgrid.FacetGrid at 0x22738508e30>"
      ]
     },
     "execution_count": 103,
     "metadata": {},
     "output_type": "execute_result"
    },
    {
     "data": {
      "image/png": "[encoded data removed]",
      "text/plain": [
       "<Figure size 1500x500 with 1 Axes>"
      ]
     },
     "metadata": {},
     "output_type": "display_data"
    }
   ],
   "source": [
    "sns.displot(data=df, x='make',aspect=3)\n",
    "#I cannot see any relationship between make and the chance of being sold,  i could look for a model"
   ]
  },
  {
   "cell_type": "code",
   "execution_count": 104,
   "id": "b14c9cca",
   "metadata": {},
   "outputs": [
    {
     "data": {
      "text/plain": [
       "<seaborn.axisgrid.FacetGrid at 0x2272f8af1a0>"
      ]
     },
     "execution_count": 104,
     "metadata": {},
     "output_type": "execute_result"
    },
    {
     "data": {
      "image/png": "[encoded data removed]",
      "text/plain": [
       "<Figure size 1629x500 with 1 Axes>"
      ]
     },
     "metadata": {},
     "output_type": "display_data"
    }
   ],
   "source": [
    "sns.displot(data=df, x='make', hue='model', aspect=3)"
   ]
  },
  {
   "cell_type": "code",
   "execution_count": 109,
   "id": "d72bcbae",
   "metadata": {},
   "outputs": [],
   "source": [
    "df_corr=df[[\"year\",\"price\",\"mileage\"]].corr()"
   ]
  },
  {
   "cell_type": "code",
   "execution_count": 112,
   "id": "867a35cf",
   "metadata": {},
   "outputs": [
    {
     "data": {
      "text/plain": [
       "<Axes: >"
      ]
     },
     "execution_count": 112,
     "metadata": {},
     "output_type": "execute_result"
    },
    {
     "data": {
      "image/png": "[encoded data removed]",
      "text/plain": [
       "<Figure size 2000x800 with 2 Axes>"
      ]
     },
     "metadata": {},
     "output_type": "display_data"
    }
   ],
   "source": [
    "sns.heatmap(df_corr, annot=True)"
   ]
  },
  {
   "cell_type": "markdown",
   "id": "828d5ae1",
   "metadata": {},
   "source": [
    "### Interesitng Query questions: My favorite brand is Porsche is there any? if not what is the cheapest car in average to buy"
   ]
  },
  {
   "cell_type": "code",
   "execution_count": 138,
   "id": "3d3e3ab2",
   "metadata": {},
   "outputs": [
    {
     "data": {
      "application/vnd.microsoft.datawrangler.viewer.v0+json": {
       "columns": [
        {
         "name": "index",
         "rawType": "int64",
         "type": "integer"
        },
        {
         "name": "make",
         "rawType": "object",
         "type": "string"
        },
        {
         "name": "model",
         "rawType": "object",
         "type": "string"
        },
        {
         "name": "year",
         "rawType": "int64",
         "type": "integer"
        },
        {
         "name": "trim",
         "rawType": "object",
         "type": "string"
        },
        {
         "name": "body_type",
         "rawType": "object",
         "type": "string"
        },
        {
         "name": "fuel_type",
         "rawType": "object",
         "type": "string"
        },
        {
         "name": "transmission",
         "rawType": "object",
         "type": "string"
        },
        {
         "name": "mileage",
         "rawType": "int64",
         "type": "integer"
        },
        {
         "name": "price",
         "rawType": "float64",
         "type": "float"
        },
        {
         "name": "condition",
         "rawType": "object",
         "type": "string"
        },
        {
         "name": "location",
         "rawType": "object",
         "type": "string"
        },
        {
         "name": "seller_type",
         "rawType": "object",
         "type": "string"
        },
        {
         "name": "features",
         "rawType": "object",
         "type": "string"
        }
       ],
       "ref": "1c377377-38ef-4119-a182-a8605df6ec05",
       "rows": [],
       "shape": {
        "columns": 13,
        "rows": 0
       }
      },
      "text/html": [
       "<div>\n",
       "<style scoped>\n",
       "    .dataframe tbody tr th:only-of-type {\n",
       "        vertical-align: middle;\n",
       "    }\n",
       "\n",
       "    .dataframe tbody tr th {\n",
       "        vertical-align: top;\n",
       "    }\n",
       "\n",
       "    .dataframe thead th {\n",
       "        text-align: right;\n",
       "    }\n",
       "</style>\n",
       "<table border=\"1\" class=\"dataframe\">\n",
       "  <thead>\n",
       "    <tr style=\"text-align: right;\">\n",
       "      <th></th>\n",
       "      <th>make</th>\n",
       "      <th>model</th>\n",
       "      <th>year</th>\n",
       "      <th>trim</th>\n",
       "      <th>body_type</th>\n",
       "      <th>fuel_type</th>\n",
       "      <th>transmission</th>\n",
       "      <th>mileage</th>\n",
       "      <th>price</th>\n",
       "      <th>condition</th>\n",
       "      <th>location</th>\n",
       "      <th>seller_type</th>\n",
       "      <th>features</th>\n",
       "    </tr>\n",
       "  </thead>\n",
       "  <tbody>\n",
       "  </tbody>\n",
       "</table>\n",
       "</div>"
      ],
      "text/plain": [
       "Empty DataFrame\n",
       "Columns: [make, model, year, trim, body_type, fuel_type, transmission, mileage, price, condition, location, seller_type, features]\n",
       "Index: []"
      ]
     },
     "execution_count": 138,
     "metadata": {},
     "output_type": "execute_result"
    }
   ],
   "source": [
    "df.query(\"make=='Porsche'\")"
   ]
  },
  {
   "cell_type": "code",
   "execution_count": 154,
   "id": "4723dcfb",
   "metadata": {},
   "outputs": [
    {
     "data": {
      "application/vnd.microsoft.datawrangler.viewer.v0+json": {
       "columns": [
        {
         "name": "index",
         "rawType": "int64",
         "type": "integer"
        },
        {
         "name": "price",
         "rawType": "float64",
         "type": "float"
        }
       ],
       "ref": "f0315637-8a78-4276-8f27-568c0e24957d",
       "rows": [
        [
         "809",
         "1.0"
        ],
        [
         "2013",
         "2.0"
        ],
        [
         "386",
         "2.0"
        ],
        [
         "269",
         "3.0"
        ],
        [
         "1868",
         "4.0"
        ],
        [
         "1352",
         "5.0"
        ],
        [
         "757",
         "6.0"
        ],
        [
         "1800",
         "6.0"
        ],
        [
         "893",
         "7.0"
        ],
        [
         "647",
         "7.0"
        ],
        [
         "1061",
         "8.0"
        ],
        [
         "399",
         "9.0"
        ],
        [
         "1066",
         "9.0"
        ],
        [
         "1908",
         "10.0"
        ],
        [
         "539",
         "10.0"
        ],
        [
         "419",
         "11.0"
        ],
        [
         "1901",
         "11.0"
        ],
        [
         "1455",
         "11.0"
        ],
        [
         "1332",
         "12.0"
        ],
        [
         "2038",
         "13.0"
        ],
        [
         "1100",
         "13.0"
        ],
        [
         "895",
         "13.0"
        ],
        [
         "282",
         "14.0"
        ],
        [
         "782",
         "15.0"
        ],
        [
         "1129",
         "15.0"
        ],
        [
         "899",
         "16.0"
        ],
        [
         "1524",
         "17.0"
        ],
        [
         "88",
         "17.0"
        ],
        [
         "322",
         "18.0"
        ],
        [
         "910",
         "19.0"
        ],
        [
         "654",
         "20.0"
        ],
        [
         "47",
         "20.0"
        ],
        [
         "1405",
         "21.0"
        ],
        [
         "1536",
         "22.0"
        ],
        [
         "1498",
         "23.0"
        ],
        [
         "535",
         "24.0"
        ],
        [
         "1770",
         "24.0"
        ],
        [
         "410",
         "25.0"
        ],
        [
         "1150",
         "25.0"
        ],
        [
         "865",
         "26.0"
        ],
        [
         "285",
         "27.0"
        ],
        [
         "900",
         "28.0"
        ],
        [
         "1396",
         "29.0"
        ],
        [
         "204",
         "30.0"
        ],
        [
         "118",
         "31.0"
        ],
        [
         "1623",
         "32.0"
        ],
        [
         "428",
         "33.0"
        ],
        [
         "1605",
         "34.0"
        ],
        [
         "262",
         "34.0"
        ],
        [
         "260",
         "34.0"
        ]
       ],
       "shape": {
        "columns": 1,
        "rows": 2068
       }
      },
      "text/plain": [
       "809        1.0\n",
       "2013       2.0\n",
       "386        2.0\n",
       "269        3.0\n",
       "1868       4.0\n",
       "         ...  \n",
       "1927    1879.0\n",
       "225     1880.0\n",
       "731     1881.0\n",
       "1008    1882.0\n",
       "1478    1883.0\n",
       "Name: price, Length: 2068, dtype: float64"
      ]
     },
     "execution_count": 154,
     "metadata": {},
     "output_type": "execute_result"
    }
   ],
   "source": [
    "df[\"price\"].rank(method='dense',ascending=True).sort_values(ascending=True)"
   ]
  },
  {
   "cell_type": "code",
   "execution_count": 158,
   "id": "c0770781",
   "metadata": {},
   "outputs": [
    {
     "data": {
      "application/vnd.microsoft.datawrangler.viewer.v0+json": {
       "columns": [
        {
         "name": "model",
         "rawType": "object",
         "type": "string"
        },
        {
         "name": "count",
         "rawType": "int64",
         "type": "integer"
        }
       ],
       "ref": "7d075f51-756e-4971-9fb7-9ee6f6aeaca7",
       "rows": [
        [
         "Model 3",
         "60"
        ],
        [
         "Model Y",
         "57"
        ],
        [
         "Octavia",
         "56"
        ],
        [
         "Bolero",
         "53"
        ],
        [
         "Slavia",
         "48"
        ],
        [
         "Sorento",
         "44"
        ],
        [
         "Scorpio",
         "43"
        ],
        [
         "Taigun",
         "43"
        ],
        [
         "Jetta",
         "43"
        ],
        [
         "GLA",
         "43"
        ],
        [
         "Equinox",
         "42"
        ],
        [
         "F-150",
         "42"
        ],
        [
         "A4",
         "41"
        ],
        [
         "Kushaq",
         "41"
        ],
        [
         "XUV700",
         "40"
        ],
        [
         "Magnite",
         "39"
        ],
        [
         "Malibu",
         "38"
        ],
        [
         "Tiguan",
         "37"
        ],
        [
         "Explorer",
         "37"
        ],
        [
         "Sonet",
         "36"
        ],
        [
         "Escape",
         "36"
        ],
        [
         "Q5",
         "36"
        ],
        [
         "A6",
         "36"
        ],
        [
         "X5",
         "35"
        ],
        [
         "Nexon",
         "35"
        ],
        [
         "Harrier",
         "35"
        ],
        [
         "Altroz",
         "34"
        ],
        [
         "Trax",
         "33"
        ],
        [
         "3 Series",
         "33"
        ],
        [
         "GLC",
         "32"
        ],
        [
         "Sentra",
         "32"
        ],
        [
         "Maverick",
         "31"
        ],
        [
         "5 Series",
         "30"
        ],
        [
         "Rogue",
         "30"
        ],
        [
         "Tucson",
         "29"
        ],
        [
         "Q3",
         "29"
        ],
        [
         "CR-V",
         "29"
        ],
        [
         "Accord",
         "29"
        ],
        [
         "E-Class",
         "28"
        ],
        [
         "Sonata",
         "28"
        ],
        [
         "X3",
         "27"
        ],
        [
         "Creta",
         "27"
        ],
        [
         "Altima",
         "27"
        ],
        [
         "Sportage",
         "27"
        ],
        [
         "Civic",
         "26"
        ],
        [
         "Seltos",
         "26"
        ],
        [
         "Ertiga",
         "24"
        ],
        [
         "C-Class",
         "24"
        ],
        [
         "Swift",
         "24"
        ],
        [
         "Dzire",
         "24"
        ]
       ],
       "shape": {
        "columns": 1,
        "rows": 65
       }
      },
      "text/plain": [
       "model\n",
       "Model 3       60\n",
       "Model Y       57\n",
       "Octavia       56\n",
       "Bolero        53\n",
       "Slavia        48\n",
       "              ..\n",
       "Camry         17\n",
       "Highlander    16\n",
       "RAV4          15\n",
       "Fortuner      14\n",
       "Tacoma        12\n",
       "Name: count, Length: 65, dtype: int64"
      ]
     },
     "execution_count": 158,
     "metadata": {},
     "output_type": "execute_result"
    }
   ],
   "source": [
    "df['model'].value_counts()"
   ]
  },
  {
   "cell_type": "code",
   "execution_count": 163,
   "id": "a1b00bc3",
   "metadata": {},
   "outputs": [
    {
     "data": {
      "application/vnd.microsoft.datawrangler.viewer.v0+json": {
       "columns": [
        {
         "name": "index",
         "rawType": "int64",
         "type": "integer"
        },
        {
         "name": "make",
         "rawType": "object",
         "type": "string"
        },
        {
         "name": "model",
         "rawType": "object",
         "type": "string"
        },
        {
         "name": "price",
         "rawType": "float64",
         "type": "float"
        }
       ],
       "ref": "ad899843-e768-4d3e-8bf6-c1a68ce5c9c7",
       "rows": [
        [
         "35",
         "Maruti",
         "Ertiga",
         "4116.375"
        ],
        [
         "49",
         "Tata",
         "Altroz",
         "4651.764705882353"
        ],
        [
         "33",
         "Maruti",
         "Baleno",
         "4709.409090909091"
        ],
        [
         "34",
         "Maruti",
         "Dzire",
         "5448.833333333333"
        ],
        [
         "50",
         "Tata",
         "Harrier",
         "5861.6"
        ],
        [
         "10",
         "Chevrolet",
         "Silverado",
         "5910.863636363636"
        ],
        [
         "43",
         "Nissan",
         "Magnite",
         "5988.25641025641"
        ],
        [
         "30",
         "Mahindra",
         "Bolero",
         "6016.471698113208"
        ],
        [
         "31",
         "Mahindra",
         "Scorpio",
         "6287.209302325581"
        ],
        [
         "37",
         "Maruti",
         "Wagon R",
         "6328.695652173913"
        ],
        [
         "55",
         "Toyota",
         "Camry",
         "6413.411764705882"
        ],
        [
         "52",
         "Tata",
         "Punch",
         "6486.272727272727"
        ],
        [
         "45",
         "Nissan",
         "Sentra",
         "6610.75"
        ],
        [
         "32",
         "Mahindra",
         "XUV700",
         "6906.775"
        ],
        [
         "36",
         "Maruti",
         "Swift",
         "7018.791666666667"
        ],
        [
         "24",
         "Hyundai",
         "Tucson",
         "7034.275862068966"
        ],
        [
         "22",
         "Hyundai",
         "Elantra",
         "7069.111111111111"
        ],
        [
         "64",
         "Volkswagen",
         "Tiguan",
         "7076.405405405405"
        ],
        [
         "13",
         "Ford",
         "Explorer",
         "7530.621621621622"
        ],
        [
         "29",
         "Kia",
         "Sportage",
         "7581.074074074074"
        ],
        [
         "9",
         "Chevrolet",
         "Malibu",
         "7644.078947368421"
        ],
        [
         "47",
         "Skoda",
         "Octavia",
         "7722.785714285715"
        ],
        [
         "19",
         "Honda",
         "City",
         "7908.666666666667"
        ],
        [
         "42",
         "Nissan",
         "Altima",
         "7910.740740740741"
        ],
        [
         "51",
         "Tata",
         "Nexon",
         "8017.028571428571"
        ],
        [
         "20",
         "Honda",
         "Civic",
         "8078.307692307692"
        ],
        [
         "14",
         "Ford",
         "F-150",
         "8094.309523809524"
        ],
        [
         "59",
         "Toyota",
         "Innova",
         "8261.190476190477"
        ],
        [
         "27",
         "Kia",
         "Sonet",
         "8332.0"
        ],
        [
         "26",
         "Kia",
         "Seltos",
         "8402.038461538461"
        ],
        [
         "12",
         "Ford",
         "Escape",
         "8525.388888888889"
        ],
        [
         "5",
         "BMW",
         "5 Series",
         "8547.4"
        ],
        [
         "48",
         "Skoda",
         "Slavia",
         "8649.25"
        ],
        [
         "44",
         "Nissan",
         "Rogue",
         "8816.0"
        ],
        [
         "18",
         "Honda",
         "CR-V",
         "8845.275862068966"
        ],
        [
         "17",
         "Honda",
         "Amaze",
         "8969.0"
        ],
        [
         "28",
         "Kia",
         "Sorento",
         "9088.75"
        ],
        [
         "11",
         "Chevrolet",
         "Trax",
         "9168.181818181818"
        ],
        [
         "46",
         "Skoda",
         "Kushaq",
         "9220.121951219513"
        ],
        [
         "23",
         "Hyundai",
         "Sonata",
         "9266.07142857143"
        ],
        [
         "56",
         "Toyota",
         "Corolla",
         "9351.857142857143"
        ],
        [
         "8",
         "Chevrolet",
         "Equinox",
         "9583.380952380952"
        ],
        [
         "58",
         "Toyota",
         "Highlander",
         "9822.9375"
        ],
        [
         "25",
         "Hyundai",
         "i20",
         "10121.90909090909"
        ],
        [
         "16",
         "Honda",
         "Accord",
         "10243.310344827587"
        ],
        [
         "15",
         "Ford",
         "Maverick",
         "10397.741935483871"
        ],
        [
         "62",
         "Volkswagen",
         "Jetta",
         "10440.60465116279"
        ],
        [
         "61",
         "Toyota",
         "Tacoma",
         "10591.833333333334"
        ],
        [
         "41",
         "Mercedes-Benz",
         "GLC",
         "10612.375"
        ],
        [
         "63",
         "Volkswagen",
         "Taigun",
         "10842.116279069767"
        ]
       ],
       "shape": {
        "columns": 3,
        "rows": 65
       }
      },
      "text/html": [
       "<div>\n",
       "<style scoped>\n",
       "    .dataframe tbody tr th:only-of-type {\n",
       "        vertical-align: middle;\n",
       "    }\n",
       "\n",
       "    .dataframe tbody tr th {\n",
       "        vertical-align: top;\n",
       "    }\n",
       "\n",
       "    .dataframe thead th {\n",
       "        text-align: right;\n",
       "    }\n",
       "</style>\n",
       "<table border=\"1\" class=\"dataframe\">\n",
       "  <thead>\n",
       "    <tr style=\"text-align: right;\">\n",
       "      <th></th>\n",
       "      <th>make</th>\n",
       "      <th>model</th>\n",
       "      <th>price</th>\n",
       "    </tr>\n",
       "  </thead>\n",
       "  <tbody>\n",
       "    <tr>\n",
       "      <th>35</th>\n",
       "      <td>Maruti</td>\n",
       "      <td>Ertiga</td>\n",
       "      <td>4116.375000</td>\n",
       "    </tr>\n",
       "    <tr>\n",
       "      <th>49</th>\n",
       "      <td>Tata</td>\n",
       "      <td>Altroz</td>\n",
       "      <td>4651.764706</td>\n",
       "    </tr>\n",
       "    <tr>\n",
       "      <th>33</th>\n",
       "      <td>Maruti</td>\n",
       "      <td>Baleno</td>\n",
       "      <td>4709.409091</td>\n",
       "    </tr>\n",
       "    <tr>\n",
       "      <th>34</th>\n",
       "      <td>Maruti</td>\n",
       "      <td>Dzire</td>\n",
       "      <td>5448.833333</td>\n",
       "    </tr>\n",
       "    <tr>\n",
       "      <th>50</th>\n",
       "      <td>Tata</td>\n",
       "      <td>Harrier</td>\n",
       "      <td>5861.600000</td>\n",
       "    </tr>\n",
       "    <tr>\n",
       "      <th>...</th>\n",
       "      <td>...</td>\n",
       "      <td>...</td>\n",
       "      <td>...</td>\n",
       "    </tr>\n",
       "    <tr>\n",
       "      <th>2</th>\n",
       "      <td>Audi</td>\n",
       "      <td>Q3</td>\n",
       "      <td>13478.137931</td>\n",
       "    </tr>\n",
       "    <tr>\n",
       "      <th>39</th>\n",
       "      <td>Mercedes-Benz</td>\n",
       "      <td>E-Class</td>\n",
       "      <td>13808.892857</td>\n",
       "    </tr>\n",
       "    <tr>\n",
       "      <th>4</th>\n",
       "      <td>BMW</td>\n",
       "      <td>3 Series</td>\n",
       "      <td>14837.090909</td>\n",
       "    </tr>\n",
       "    <tr>\n",
       "      <th>38</th>\n",
       "      <td>Mercedes-Benz</td>\n",
       "      <td>C-Class</td>\n",
       "      <td>15687.916667</td>\n",
       "    </tr>\n",
       "    <tr>\n",
       "      <th>7</th>\n",
       "      <td>BMW</td>\n",
       "      <td>X5</td>\n",
       "      <td>18048.000000</td>\n",
       "    </tr>\n",
       "  </tbody>\n",
       "</table>\n",
       "<p>65 rows × 3 columns</p>\n",
       "</div>"
      ],
      "text/plain": [
       "             make     model         price\n",
       "35         Maruti    Ertiga   4116.375000\n",
       "49           Tata    Altroz   4651.764706\n",
       "33         Maruti    Baleno   4709.409091\n",
       "34         Maruti     Dzire   5448.833333\n",
       "50           Tata   Harrier   5861.600000\n",
       "..            ...       ...           ...\n",
       "2            Audi        Q3  13478.137931\n",
       "39  Mercedes-Benz   E-Class  13808.892857\n",
       "4             BMW  3 Series  14837.090909\n",
       "38  Mercedes-Benz   C-Class  15687.916667\n",
       "7             BMW        X5  18048.000000\n",
       "\n",
       "[65 rows x 3 columns]"
      ]
     },
     "execution_count": 163,
     "metadata": {},
     "output_type": "execute_result"
    }
   ],
   "source": [
    "df.groupby([\"make\",\"model\"], as_index=False)[\"price\"].mean().sort_values(\"price\")\n"
   ]
  },
  {
   "cell_type": "markdown",
   "id": "933c34dd",
   "metadata": {},
   "source": [
    "### Interesitng modeling questions: What is the statiscal relationship between milage and price and have a quick prediction model\n"
   ]
  },
  {
   "cell_type": "code",
   "execution_count": 175,
   "id": "f7d0719d",
   "metadata": {},
   "outputs": [
    {
     "name": "stdout",
     "output_type": "stream",
     "text": [
      "                            OLS Regression Results                            \n",
      "==============================================================================\n",
      "Dep. Variable:                  price   R-squared:                       0.413\n",
      "Model:                            OLS   Adj. R-squared:                  0.413\n",
      "Method:                 Least Squares   F-statistic:                     1453.\n",
      "Date:                Wed, 20 Aug 2025   Prob (F-statistic):          3.07e-241\n",
      "Time:                        17:14:49   Log-Likelihood:                -21423.\n",
      "No. Observations:                2068   AIC:                         4.285e+04\n",
      "Df Residuals:                    2066   BIC:                         4.286e+04\n",
      "Df Model:                           1                                         \n",
      "Covariance Type:            nonrobust                                         \n",
      "==============================================================================\n",
      "                 coef    std err          t      P>|t|      [0.025      0.975]\n",
      "------------------------------------------------------------------------------\n",
      "const       1.833e+04    292.791     62.591      0.000    1.78e+04    1.89e+04\n",
      "mileage       -0.0791      0.002    -38.121      0.000      -0.083      -0.075\n",
      "==============================================================================\n",
      "Omnibus:                      945.829   Durbin-Watson:                   1.993\n",
      "Prob(Omnibus):                  0.000   Jarque-Bera (JB):             5480.664\n",
      "Skew:                           2.108   Prob(JB):                         0.00\n",
      "Kurtosis:                       9.770   Cond. No.                     2.46e+05\n",
      "==============================================================================\n",
      "\n",
      "Notes:\n",
      "[1] Standard Errors assume that the covariance matrix of the errors is correctly specified.\n",
      "[2] The condition number is large, 2.46e+05. This might indicate that there are\n",
      "strong multicollinearity or other numerical problems.\n"
     ]
    }
   ],
   "source": [
    "import re\n",
    "import statsmodels.api as sm\n",
    "\n",
    "endo = df[[\"mileage\"]]\n",
    "endo = sm.add_constant(endo)\n",
    "\n",
    "reg = sm.OLS(df[\"price\"],endo)\n",
    "results = reg.fit()\n",
    "print(results.summary())"
   ]
  },
  {
   "cell_type": "markdown",
   "id": "367467f3",
   "metadata": {},
   "source": [
    "Not Robust Analysis given the heteroskedasticity of my data and only utlising minimum variables, more variables can lower the effect of millage if they are more important to the buyer or can increase the value if other factors are more important\n",
    "\n",
    "Given the right skew of my data and the fact of a big dropoff OLS is not recommended but I can determine that millage is for sure a negative impact on the price of the car.\n",
    "\n",
    "You can see a funny interaction for every mile you drive you lose 7 cents of your car value."
   ]
  }
 ],
 "metadata": {
  "kernelspec": {
   "display_name": "base",
   "language": "python",
   "name": "python3"
  },
  "language_info": {
   "codemirror_mode": {
    "name": "ipython",
    "version": 3
   },
   "file_extension": ".py",
   "mimetype": "text/x-python",
   "name": "python",
   "nbconvert_exporter": "python",
   "pygments_lexer": "ipython3",
   "version": "3.12.3"
  }
 },
 "nbformat": 4,
 "nbformat_minor": 5
}
